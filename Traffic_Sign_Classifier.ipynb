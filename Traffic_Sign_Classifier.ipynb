{
 "cells": [
  {
   "cell_type": "markdown",
   "metadata": {},
   "source": [
    "# Self-Driving Car Engineer Nanodegree\n",
    "\n",
    "## Deep Learning\n",
    "\n",
    "## Project: Build a Traffic Sign Recognition Classifier\n",
    "\n",
    "In this notebook, a template is provided for you to implement your functionality in stages, which is required to successfully complete this project. If additional code is required that cannot be included in the notebook, be sure that the Python code is successfully imported and included in your submission if necessary. \n",
    "\n",
    "> **Note**: Once you have completed all of the code implementations, you need to finalize your work by exporting the iPython Notebook as an HTML document. Before exporting the notebook to html, all of the code cells need to have been run so that reviewers can see the final implementation and output. You can then export the notebook by using the menu above and navigating to  \\n\",\n",
    "    \"**File -> Download as -> HTML (.html)**. Include the finished document along with this notebook as your submission. \n",
    "\n",
    "In addition to implementing code, there is a writeup to complete. The writeup should be completed in a separate file, which can be either a markdown file or a pdf document. There is a [write up template](https://github.com/udacity/CarND-Traffic-Sign-Classifier-Project/blob/master/writeup_template.md) that can be used to guide the writing process. Completing the code template and writeup template will cover all of the [rubric points](https://review.udacity.com/#!/rubrics/481/view) for this project.\n",
    "\n",
    "The [rubric](https://review.udacity.com/#!/rubrics/481/view) contains \"Stand Out Suggestions\" for enhancing the project beyond the minimum requirements. The stand out suggestions are optional. If you decide to pursue the \"stand out suggestions\", you can include the code in this Ipython notebook and also discuss the results in the writeup file.\n",
    "\n",
    "\n",
    ">**Note:** Code and Markdown cells can be executed using the **Shift + Enter** keyboard shortcut. In addition, Markdown cells can be edited by typically double-clicking the cell to enter edit mode."
   ]
  },
  {
   "cell_type": "markdown",
   "metadata": {},
   "source": [
    "---\n",
    "## Step 0: Load The Data"
   ]
  },
  {
   "cell_type": "code",
   "execution_count": 1,
   "metadata": {
    "collapsed": true
   },
   "outputs": [],
   "source": [
    "# Load pickled data\n",
    "import pickle\n",
    "\n",
    "# TODO: Fill this in based on where you saved the training and testing data\n",
    "\n",
    "training_file = 'traffic-signs-data\\\\train.p'\n",
    "validation_file = \"traffic-signs-data\\\\valid.p\"\n",
    "testing_file = \"traffic-signs-data\\\\test.p\"\n",
    "\n",
    "with open(training_file, mode='rb') as f:\n",
    "    train = pickle.load(f)\n",
    "with open(validation_file, mode='rb') as f:\n",
    "    valid = pickle.load(f)\n",
    "with open(testing_file, mode='rb') as f:\n",
    "    test = pickle.load(f)\n",
    "    \n",
    "X_train, y_train = train['features'], train['labels']\n",
    "X_valid, y_valid = valid['features'], valid['labels']\n",
    "X_test, y_test = test['features'], test['labels']"
   ]
  },
  {
   "cell_type": "markdown",
   "metadata": {},
   "source": [
    "---\n",
    "\n",
    "## Step 1: Dataset Summary & Exploration\n",
    "\n",
    "The pickled data is a dictionary with 4 key/value pairs:\n",
    "\n",
    "- `'features'` is a 4D array containing raw pixel data of the traffic sign images, (num examples, width, height, channels).\n",
    "- `'labels'` is a 1D array containing the label/class id of the traffic sign. The file `signnames.csv` contains id -> name mappings for each id.\n",
    "- `'sizes'` is a list containing tuples, (width, height) representing the original width and height the image.\n",
    "- `'coords'` is a list containing tuples, (x1, y1, x2, y2) representing coordinates of a bounding box around the sign in the image. **THESE COORDINATES ASSUME THE ORIGINAL IMAGE. THE PICKLED DATA CONTAINS RESIZED VERSIONS (32 by 32) OF THESE IMAGES**\n",
    "\n",
    "Complete the basic data summary below. Use python, numpy and/or pandas methods to calculate the data summary rather than hard coding the results. For example, the [pandas shape method](http://pandas.pydata.org/pandas-docs/stable/generated/pandas.DataFrame.shape.html) might be useful for calculating some of the summary results. "
   ]
  },
  {
   "cell_type": "markdown",
   "metadata": {},
   "source": [
    "### Provide a Basic Summary of the Data Set Using Python, Numpy and/or Pandas"
   ]
  },
  {
   "cell_type": "code",
   "execution_count": 2,
   "metadata": {},
   "outputs": [
    {
     "name": "stdout",
     "output_type": "stream",
     "text": [
      "Number of training examples =    34799 samples\n",
      "Number of validation examples =  4410 samples\n",
      "Number of testing examples =     12630 samples\n",
      "Image data shape =               (32, 32, 3)\n",
      "Number of classes =              43 classes\n"
     ]
    }
   ],
   "source": [
    "### Replace each question mark with the appropriate value. \n",
    "### Use python, pandas or numpy methods rather than hard coding the results\n",
    "\n",
    "import numpy as np\n",
    "from sklearn import preprocessing\n",
    "\n",
    "# TODO: Number of training examples\n",
    "n_train = len(X_train)\n",
    "\n",
    "# TODO: Number of validation examples\n",
    "n_validation = len(X_valid)\n",
    "\n",
    "# TODO: Number of testing examples.\n",
    "n_test = len(X_test)\n",
    "\n",
    "# TODO: What's the shape of an traffic sign image?\n",
    "image_shape = X_train[0].shape\n",
    "\n",
    "# TODO: How many unique classes/labels there are in the dataset.\n",
    "n_classes = len(np.unique(y_train))\n",
    "\n",
    "\n",
    "print(\"Number of training examples =    {} samples\".format(n_train))\n",
    "print(\"Number of validation examples =  {} samples\".format(n_validation))\n",
    "print(\"Number of testing examples =     {} samples\".format(n_test))\n",
    "print(\"Image data shape =               {}\".format(image_shape))\n",
    "print(\"Number of classes =              {} classes\".format(n_classes))"
   ]
  },
  {
   "cell_type": "markdown",
   "metadata": {},
   "source": [
    "### Include an exploratory visualization of the dataset"
   ]
  },
  {
   "cell_type": "markdown",
   "metadata": {},
   "source": [
    "Visualize the German Traffic Signs Dataset using the pickled file(s). This is open ended, suggestions include: plotting traffic sign images, plotting the count of each sign, etc. \n",
    "\n",
    "The [Matplotlib](http://matplotlib.org/) [examples](http://matplotlib.org/examples/index.html) and [gallery](http://matplotlib.org/gallery.html) pages are a great resource for doing visualizations in Python.\n",
    "\n",
    "**NOTE:** It's recommended you start with something simple first. If you wish to do more, come back to it after you've completed the rest of the sections. It can be interesting to look at the distribution of classes in the training, validation and test set. Is the distribution the same? Are there more examples of some classes than others?"
   ]
  },
  {
   "cell_type": "code",
   "execution_count": 3,
   "metadata": {},
   "outputs": [
    {
     "data": {
      "image/png": "[encoded data removed]",
      "text/plain": [
       "<matplotlib.figure.Figure at 0x227d2dea668>"
      ]
     },
     "metadata": {},
     "output_type": "display_data"
    }
   ],
   "source": [
    "### Data exploration visualization code goes here.\n",
    "### Feel free to use as many code cells as needed.\n",
    "import matplotlib.pyplot as plt\n",
    "from itertools import groupby\n",
    "import csv\n",
    "import random\n",
    "import cv2\n",
    "\n",
    "\n",
    "print\n",
    "%matplotlib inline\n",
    "\n",
    "index = random.randint(0, len(X_train))\n",
    "image = X_train[index]\n",
    "\n",
    "\n",
    "image = cv2.cvtColor(image, cv2.COLOR_RGB2GRAY)\n",
    "#u, indices = np.unique(y_train, return_index=True)\n",
    "\n",
    "\n",
    "#plt.figure(figsize=(2,2))\n",
    "#plt.imshow(image, cmap='gray')\n",
    "#print(y_train[index])\n",
    "\n",
    "labels, counts = np.unique(y_train, return_counts=True)\n",
    "\n",
    "plt.rcParams[\"figure.figsize\"] = [15, 5]\n",
    "axes = plt.gca()\n",
    "axes.set_xlim([-1,43])\n",
    "\n",
    "plt.bar(labels, counts, tick_label=labels, width=0.8, align='center')\n",
    "plt.title('Class Distribution across Training Data')\n",
    "plt.savefig('examples/data_visual.png')\n",
    "plt.show()"
   ]
  },
  {
   "cell_type": "markdown",
   "metadata": {},
   "source": [
    "----\n",
    "\n",
    "## Step 2: Design and Test a Model Architecture\n",
    "\n",
    "Design and implement a deep learning model that learns to recognize traffic signs. Train and test your model on the [German Traffic Sign Dataset](http://benchmark.ini.rub.de/?section=gtsrb&subsection=dataset).\n",
    "\n",
    "The LeNet-5 implementation shown in the [classroom](https://classroom.udacity.com/nanodegrees/nd013/parts/fbf77062-5703-404e-b60c-95b78b2f3f9e/modules/6df7ae49-c61c-4bb2-a23e-6527e69209ec/lessons/601ae704-1035-4287-8b11-e2c2716217ad/concepts/d4aca031-508f-4e0b-b493-e7b706120f81) at the end of the CNN lesson is a solid starting point. You'll have to change the number of classes and possibly the preprocessing, but aside from that it's plug and play! \n",
    "\n",
    "With the LeNet-5 solution from the lecture, you should expect a validation set accuracy of about 0.89. To meet specifications, the validation set accuracy will need to be at least 0.93. It is possible to get an even higher accuracy, but 0.93 is the minimum for a successful project submission. \n",
    "\n",
    "There are various aspects to consider when thinking about this problem:\n",
    "\n",
    "- Neural network architecture (is the network over or underfitting?)\n",
    "- Play around preprocessing techniques (normalization, rgb to grayscale, etc)\n",
    "- Number of examples per label (some have more than others).\n",
    "- Generate fake data.\n",
    "\n",
    "Here is an example of a [published baseline model on this problem](http://yann.lecun.com/exdb/publis/pdf/sermanet-ijcnn-11.pdf). It's not required to be familiar with the approach used in the paper but, it's good practice to try to read papers like these."
   ]
  },
  {
   "cell_type": "markdown",
   "metadata": {},
   "source": [
    "### Pre-process the Data Set (normalization, grayscale, etc.)"
   ]
  },
  {
   "cell_type": "markdown",
   "metadata": {},
   "source": [
    "Minimally, the image data should be normalized so that the data has mean zero and equal variance. For image data, `(pixel - 128)/ 128` is a quick way to approximately normalize the data and can be used in this project. \n",
    "\n",
    "Other pre-processing steps are optional. You can try different techniques to see if it improves performance. \n",
    "\n",
    "Use the code cell (or multiple code cells, if necessary) to implement the first step of your project."
   ]
  },
  {
   "cell_type": "code",
   "execution_count": 4,
   "metadata": {},
   "outputs": [],
   "source": [
    "### Preprocess the data here. It is required to normalize the data. Other preprocessing steps could include \n",
    "### converting to grayscale, etc.\n",
    "### Feel free to use as many code cells as needed.\n",
    "\n",
    "\n",
    "from sklearn.utils import shuffle\n",
    "import cv2\n",
    "\n",
    "X_train, y_train = shuffle(X_train, y_train)\n",
    "        \n",
    "def grayscale(data):\n",
    "    imgs = np.ndarray((data.shape[0], 32, 32, 1), dtype=np.uint8)\n",
    "    for i, img in enumerate(data):\n",
    "        img = cv2.cvtColor(img, cv2.COLOR_RGB2GRAY)\n",
    "        img = cv2.equalizeHist(img)\n",
    "        img = np.expand_dims(img, axis=2)\n",
    "        imgs[i] = img\n",
    "    return imgs\n",
    "\n",
    "X_train = grayscale(X_train)\n",
    "X_valid = grayscale(X_valid)\n",
    "X_test = grayscale(X_test)\n",
    "\n"
   ]
  },
  {
   "cell_type": "code",
   "execution_count": 5,
   "metadata": {},
   "outputs": [],
   "source": [
    "def normalization(data):\n",
    "    \n",
    "    mean = np.mean(data)\n",
    "    std = np.std(data)\n",
    "\n",
    "    data = data.astype('float32')\n",
    "    data -= mean\n",
    "    data /= std\n",
    "    return data\n",
    "\n",
    "X_train = normalization(X_train)\n",
    "X_valid = normalization(X_valid)\n",
    "X_test = normalization(X_test)\n",
    "\n"
   ]
  },
  {
   "cell_type": "markdown",
   "metadata": {},
   "source": [
    "### Model Architecture"
   ]
  },
  {
   "cell_type": "code",
   "execution_count": 6,
   "metadata": {},
   "outputs": [],
   "source": [
    "### Define your architecture here.\n",
    "### Feel free to use as many code cells as needed.\n",
    "\n",
    "# Architecture implementation\n",
    "import tensorflow as tf\n",
    "from tensorflow.contrib.layers import flatten\n",
    "\n",
    "EPOCHS = 10\n",
    "BATCH_SIZE = 124 ### The larger the batch size, the faster the network will be trained. But very large batches may not fit into\n",
    "                 ### available memory\n",
    "\n",
    "    \n",
    "# Hyperparameters - related to weights initialization\n",
    "mu = 0\n",
    "sigma = 0.1\n",
    "\n",
    "def LeNet2(x):\n",
    "    \n",
    "    global conv_L1\n",
    "    ## 1.1 Convolution - input: 32x32x3 - output: 28x28x6  (32 - 3) + 1 = 30x30 (za filter size = 3, stride = 1, padding = 0)\n",
    "    \n",
    "    # If doing grayscaling than input is 32x32x1\n",
    "    \n",
    "    #wc1 = tf.Variable(tf.truncated_normal(shape=(5, 5, 1, 6), mean = mu, stddev = sigma))\n",
    "    #bias_c1 = tf.Variable(tf.zeros(6))\n",
    "    #stride_1 = [1, 1, 1, 1]\n",
    "    \n",
    "    #32 - 6 + 1 =27\n",
    "    \n",
    "    wc1 = tf.Variable(tf.truncated_normal(shape=(5, 5, 1, 6), mean = mu, stddev = sigma))\n",
    "    bias_c1 = tf.Variable(tf.zeros(6))\n",
    "    stride_1 = [1, 1, 1, 1]\n",
    "    \n",
    "    \n",
    "    conv_L1 = tf.nn.conv2d(x, wc1, stride_1, padding='VALID')\n",
    "    conv_L1 = tf.nn.bias_add(conv_L1, bias_c1, name='Conv_L1')\n",
    "    \n",
    "    ## 1.2 Activation\n",
    "    \n",
    "    act_L1 = tf.nn.relu(conv_L1, name='Act_L1')\n",
    "    \n",
    "    ## 1.3 Pooling (or dropout) output: 14x14x6  (15x15x6)\n",
    "    \n",
    "    #pool_L1 = tf.nn.max_pool(act_L1, ksize=[1, 2, 2, 1], strides=[1, 2, 2, 1], padding='VALID', name='Pool_L1')\n",
    "    \n",
    "    ## 2.1 Convolution - output: 10x10x16  (15-2)+1 = 14x14x10 (za filter size = 2)\n",
    "    \n",
    "    #30x30x6 - (30 - 3) + 1 =  28x28x16\n",
    "    \n",
    "    #wc2 = tf.Variable(tf.truncated_normal(shape=(5, 5, 6, 16), mean = mu, stddev = sigma))\n",
    "    #bias_c2 = tf.Variable(tf.zeros(16))\n",
    "    #stride_2 = [1, 1, 1, 1]\n",
    "    \n",
    "    #27 - 6 + 1 = 22\n",
    "    \n",
    "    wc2 = tf.Variable(tf.truncated_normal(shape=(5, 5, 6, 16), mean = mu, stddev = sigma))\n",
    "    bias_c2 = tf.Variable(tf.zeros(16))\n",
    "    stride_2 = [1, 1, 1, 1]\n",
    "    \n",
    "    \n",
    "    conv_L2 = tf.nn.conv2d(act_L1, wc2, stride_2, padding='VALID')\n",
    "    conv_L2 = tf.nn.bias_add(conv_L2, bias_c2, name='Conv_L2')\n",
    "    \n",
    "    ## 2.2 Activation\n",
    "    \n",
    "    act_L2 = tf.nn.relu(conv_L2, name='Act_L2')\n",
    "    \n",
    "    ## 2.3 Pooling (or dropout) - output: 5x5x16   (7x7x10)\n",
    "    \n",
    "    #pool_L2 = tf.nn.max_pool(act_L2, ksize=[1, 2, 2, 1], strides=[1, 2, 2, 1], padding='VALID', name='Pool_L2')\n",
    "    \n",
    "    ###########\n",
    "    \n",
    "    ## 3.1 Convolution  (7 - 2) + 1 = 6x6x32 ili (za kernel_size=3 -> 5x5x16)\n",
    "    \n",
    "    ## 28x28x16 - (28 - 3) + 1 = 26x26x32\n",
    "    \n",
    "    wc3 = tf.Variable(tf.truncated_normal(shape=(5, 5, 16, 32), mean = mu, stddev = sigma))\n",
    "    bias_c3 = tf.Variable(tf.zeros(32))\n",
    "    stride_3 = [1, 1, 1, 1]\n",
    "    \n",
    "    conv_L3 = tf.nn.conv2d(act_L2, wc3, stride_3, padding='VALID')\n",
    "    conv_L3 = tf.nn.bias_add(conv_L3, bias_c3, name='Conv_L3')\n",
    "    \n",
    "    ## 3.2 Activation\n",
    "    \n",
    "    act_L3 = tf.nn.relu(conv_L3, name=\"Act_L3\")\n",
    "    \n",
    "    # Input into this pooling layer 5x5x32\n",
    "    ## 3.3 Pooling - output should be 3x3x32 - Probati izbaciti ovaj pooling i koristiti kernel size = 3 na prethodnoj konvoluciji\n",
    "    # otput - 13x13x32\n",
    "    pool_L3 = tf.nn.max_pool(act_L3, ksize=[1, 2, 2, 1], strides=[1, 2, 2, 1], padding='VALID', name='Pool_L3')\n",
    "    \n",
    "    ###########\n",
    "    \n",
    "    ## 2.4 Flatten - output 400\n",
    "    \n",
    "    #w_flat = tf.Variable(tf.random_normal([5*5*16, 400], stddev=sigma))\n",
    "    #flat = tf.reshape(pool_L2, [-1, w_flat.get_shape().as_list()[0]])\n",
    "    \n",
    "    flat_L2 = flatten(pool_L3)\n",
    "    \n",
    "    ## 3.1 Fully Connected - output 120\n",
    "    \n",
    "    #wfc1 = tf.Variable(tf.truncated_normal(shape=(400, 120), mean=mu, stddev=sigma))\n",
    "    #bias_fc1 = tf.Variable(tf.zeros(120))\n",
    "    \n",
    "    wfc1 = tf.Variable(tf.truncated_normal(shape=(3200, 120), mean=mu, stddev=sigma))\n",
    "    bias_fc1 = tf.Variable(tf.zeros(120))\n",
    "    \n",
    "    fc_L1 = tf.add(tf.matmul(flat_L2, wfc1), bias_fc1)\n",
    "    \n",
    "    ## 3.2 Activation\n",
    "    \n",
    "    fc_act_L1 = tf.nn.relu(fc_L1)\n",
    "    \n",
    "    ## 4.1 Fully Connected - output 84\n",
    "    \n",
    "    wfc2 = tf.Variable(tf.truncated_normal(shape=(120, 84), mean=mu, stddev=sigma))\n",
    "    bias_fc2 = tf.Variable(tf.zeros(84))\n",
    "    \n",
    "    fc_L2 = tf.add(tf.matmul(fc_act_L1, wfc2), bias_fc2)\n",
    "    \n",
    "    ## 4.2 Activation\n",
    "    \n",
    "    fc_act_L2 = tf.nn.relu(fc_L2)\n",
    "    \n",
    "    ## 5.1 Fully Connected - output 43\n",
    "    \n",
    "    wfc3 = tf.Variable(tf.truncated_normal(shape=(84, 43), mean=mu, stddev=sigma))\n",
    "    bias_fc3 = tf.Variable(tf.zeros(43))\n",
    "    \n",
    "    logits = tf.add(tf.matmul(fc_act_L2, wfc3), bias_fc3)\n",
    "    \n",
    "    return logits\n",
    "    "
   ]
  },
  {
   "cell_type": "markdown",
   "metadata": {},
   "source": [
    "### Train, Validate and Test the Model"
   ]
  },
  {
   "cell_type": "markdown",
   "metadata": {},
   "source": [
    "A validation set can be used to assess how well the model is performing. A low accuracy on the training and validation\n",
    "sets imply underfitting. A high accuracy on the training set but low accuracy on the validation set implies overfitting."
   ]
  },
  {
   "cell_type": "code",
   "execution_count": 7,
   "metadata": {
    "collapsed": true
   },
   "outputs": [],
   "source": [
    "### Train your model here.\n",
    "### Calculate and report the accuracy on the training and validation set.\n",
    "### Once a final model architecture is selected, \n",
    "### the accuracy on the test set should be calculated and reported as well.\n",
    "### Feel free to use as many code cells as needed.\n",
    "\n",
    "### Features and labels\n",
    "x = tf.placeholder(tf.float32, (None, 32, 32, 1)) # Placeholder for storing input batches. Batch size initialized to None which\n",
    "                                                  # allows the placeholder to later accept the batch of any size\n",
    "y = tf.placeholder(tf.int32, (None)) # Placeholder for labels. For now labels are sparse variables - integers that are not one \n",
    "                                     # hot encoded yet\n",
    "one_hot_y = tf.one_hot(y, 43)"
   ]
  },
  {
   "cell_type": "code",
   "execution_count": 8,
   "metadata": {},
   "outputs": [],
   "source": [
    "### Training pipeline. This is only a pipeline, we need to pass data to it in order for it to work.\n",
    "\n",
    "learning = 0.001\n",
    "\n",
    "logits = LeNet2(x) # Passing input data (from a current batch) to LeNet\n",
    "\n",
    "cross_entropy = tf.nn.softmax_cross_entropy_with_logits(labels=one_hot_y, logits=logits) # Computes softmax cross entropy between\n",
    "# labels (one hot encoded) and logits. Cross entropy is a measure of how different logits are from one hot encoded labels.\n",
    "loss_operation = tf.reduce_mean(cross_entropy) # Returns a mean value across the cross entrophy vector - averaging cross entropy \n",
    "                                               # from all of the training labels\n",
    "optimizer = tf.train.AdamOptimizer(learning_rate=learning) # Instantiation of an optimizer (similar to gradient descent)\n",
    "training_operation = optimizer.minimize(loss_operation) # Minimizing loss function on the optimizer. Uses backpropagation to \n",
    "                                                        # update the network and minimize training loss"
   ]
  },
  {
   "cell_type": "code",
   "execution_count": 9,
   "metadata": {
    "collapsed": true
   },
   "outputs": [],
   "source": [
    "### Model evalulation pipeline. Here we evaluate how good the model is. The 2 lines below are the entire pipeline\n",
    "\n",
    "correct_prediction = tf.equal(tf.argmax(logits, 1), tf.argmax(one_hot_y, 1))\n",
    "## tf.argmax - returns the index with the largest value across the axes 1 of tensor logits (or one_hot_y)\n",
    "## tf.equal - returns the truth value of x==y elementwise\n",
    "## We compare logits prediction to one hot encoded ground truth table. We return the index of largest logit (biggest probability\n",
    "## that the photo shows that particular sign), and also the index of the one hot encoded label\n",
    "accuracy_operation = tf.reduce_mean(tf.cast(correct_prediction, tf.float32))\n",
    "## tf.reduce_mean - computes the mean of elements across the dimensions of tensor\n",
    "## We calculate model accuracy by averaging individual prediction accuracies\n",
    "saver = tf.train.Saver()\n",
    "\n",
    "## In order to run the pipeline we need to build the evaluate function. This evaluate function averages the accuracy of each \n",
    "## batch to calculate the total accuracy of the model.\n",
    "def evaluate(X_data, y_data):\n",
    "    num_examples = len(X_data)\n",
    "    total_accuracy = 0\n",
    "    sess = tf.get_default_session()#### PROVJERITI\n",
    "    for offset in range(0, num_examples, BATCH_SIZE): # dividing the input and label data in batches to be processed\n",
    "        batch_x, batch_y = X_data[offset:offset+BATCH_SIZE], y_data[offset:offset+BATCH_SIZE] \n",
    "        accuracy = sess.run(accuracy_operation, feed_dict={x: batch_x, y: batch_y}) # Running the eval pipeline on the batch\n",
    "        total_accuracy += (accuracy*len(batch_x))\n",
    "    return total_accuracy / num_examples"
   ]
  },
  {
   "cell_type": "code",
   "execution_count": 10,
   "metadata": {},
   "outputs": [
    {
     "name": "stdout",
     "output_type": "stream",
     "text": [
      "Training...\n",
      "\n",
      "EPOCH 1 ...\n",
      "Training accuracy = 0.945\n",
      "Validation accuracy = 0.877\n",
      "\n",
      "EPOCH 2 ...\n",
      "Training accuracy = 0.980\n",
      "Validation accuracy = 0.939\n",
      "\n",
      "EPOCH 3 ...\n",
      "Training accuracy = 0.991\n",
      "Validation accuracy = 0.941\n",
      "\n",
      "EPOCH 4 ...\n",
      "Training accuracy = 0.991\n",
      "Validation accuracy = 0.929\n",
      "\n",
      "EPOCH 5 ...\n",
      "Training accuracy = 0.996\n",
      "Validation accuracy = 0.936\n",
      "\n",
      "EPOCH 6 ...\n",
      "Training accuracy = 0.998\n",
      "Validation accuracy = 0.953\n",
      "\n",
      "EPOCH 7 ...\n",
      "Training accuracy = 0.997\n",
      "Validation accuracy = 0.951\n",
      "\n",
      "EPOCH 8 ...\n",
      "Training accuracy = 0.998\n",
      "Validation accuracy = 0.952\n",
      "\n",
      "EPOCH 9 ...\n",
      "Training accuracy = 0.998\n",
      "Validation accuracy = 0.959\n",
      "\n",
      "EPOCH 10 ...\n",
      "Training accuracy = 0.993\n",
      "Validation accuracy = 0.935\n",
      "\n",
      "Model saved\n"
     ]
    }
   ],
   "source": [
    "## Training and validating the Model\n",
    "\n",
    "with tf.Session() as sess:\n",
    "    sess.run(tf.global_variables_initializer()) # Initializing the variables\n",
    "    num_examples = len(X_train)\n",
    "    \n",
    "    print(\"Training...\")\n",
    "    print()\n",
    "    for i in range(EPOCHS): # Training over epochs\n",
    "        X_train, y_train = shuffle(X_train, y_train) # On the begining of each epoch we shuffle our data to ensure data isn't \n",
    "                                                     # biased by the order of the images\n",
    "        for offset in range(0, num_examples, BATCH_SIZE): # Dividing the data into batches\n",
    "            end = offset + BATCH_SIZE\n",
    "            batch_x, batch_y = X_train[offset:end], y_train[offset:end]\n",
    "            sess.run(training_operation, feed_dict={x: batch_x, y: batch_y}) # Running the training pipeline on the batch\n",
    "            \n",
    "        training_accuracy = evaluate(X_train, y_train)\n",
    "        validation_accuracy = evaluate(X_valid, y_valid) # After each training epoch we evaluate the model by running accuracy\n",
    "                                                         # operation on the validation data\n",
    "        print(\"EPOCH {} ...\".format(i+1))\n",
    "        print(\"Training accuracy = {:.3f}\".format(training_accuracy))\n",
    "        print(\"Validation accuracy = {:.3f}\".format(validation_accuracy))\n",
    "        print()\n",
    "        \n",
    "    saver.save(sess, './lenet')\n",
    "    print(\"Model saved\")\n",
    "        "
   ]
  },
  {
   "cell_type": "code",
   "execution_count": 11,
   "metadata": {},
   "outputs": [
    {
     "name": "stdout",
     "output_type": "stream",
     "text": [
      "INFO:tensorflow:Restoring parameters from .\\lenet\n",
      "Test Accuracy = 0.932\n"
     ]
    }
   ],
   "source": [
    "## Testing the Model\n",
    "with tf.Session() as sess:\n",
    "    saver.restore(sess, tf.train.latest_checkpoint('.'))\n",
    "\n",
    "    test_accuracy = evaluate(X_test, y_test)\n",
    "    print(\"Test Accuracy = {:.3f}\".format(test_accuracy))"
   ]
  },
  {
   "cell_type": "markdown",
   "metadata": {},
   "source": [
    "---\n",
    "\n",
    "## Step 3: Test a Model on New Images\n",
    "\n",
    "To give yourself more insight into how your model is working, download at least five pictures of German traffic signs from the web and use your model to predict the traffic sign type.\n",
    "\n",
    "You may find `signnames.csv` useful as it contains mappings from the class id (integer) to the actual sign name."
   ]
  },
  {
   "cell_type": "markdown",
   "metadata": {},
   "source": [
    "### Load and Output the Images"
   ]
  },
  {
   "cell_type": "code",
   "execution_count": 12,
   "metadata": {},
   "outputs": [
    {
     "name": "stdout",
     "output_type": "stream",
     "text": [
      "[ 8 18 11 17 12]\n"
     ]
    },
    {
     "data": {
      "image/png": "[encoded data removed]",
      "text/plain": [
       "<matplotlib.figure.Figure at 0x227f56f1898>"
      ]
     },
     "metadata": {},
     "output_type": "display_data"
    },
    {
     "data": {
      "image/png": "[encoded data removed]",
      "text/plain": [
       "<matplotlib.figure.Figure at 0x2280ee19d30>"
      ]
     },
     "metadata": {},
     "output_type": "display_data"
    },
    {
     "data": {
      "image/png": "[encoded data removed]",
      "text/plain": [
       "<matplotlib.figure.Figure at 0x2281b83a2e8>"
      ]
     },
     "metadata": {},
     "output_type": "display_data"
    },
    {
     "data": {
      "image/png": "[encoded data removed]",
      "text/plain": [
       "<matplotlib.figure.Figure at 0x2280ef28128>"
      ]
     },
     "metadata": {},
     "output_type": "display_data"
    },
    {
     "data": {
      "image/png": "[encoded data removed]",
      "text/plain": [
       "<matplotlib.figure.Figure at 0x2281b774eb8>"
      ]
     },
     "metadata": {},
     "output_type": "display_data"
    }
   ],
   "source": [
    "### Load the images and plot them here.\n",
    "### Feel free to use as many code cells as needed.\n",
    "import urllib\n",
    "import matplotlib.image as mpimg\n",
    "\n",
    "# Importing images from internet   crop_x1, crop_x2, crop_y1, crop_y2\n",
    "\n",
    "def Import_url(url, crop_x1, crop_x2, crop_y1, crop_y2):\n",
    "    #Extracting contents of the URL:\n",
    "    url_response = urllib.request.urlopen(url)\n",
    "    # Converting the image into a numpy array\n",
    "    img_array = np.array(bytearray(url_response.read()), dtype=np.uint8)\n",
    "    # Decoding the image\n",
    "    img = cv2.imdecode(img_array, -1)\n",
    "    crop_img = img[crop_x1:crop_x2, crop_y1:crop_y2]\n",
    "    RGB_img = cv2.cvtColor(crop_img, cv2.COLOR_BGR2RGB)\n",
    "    # resizing\n",
    "    resized = cv2.resize(RGB_img, (32, 32), interpolation = cv2.INTER_AREA)\n",
    "    #plt.imshow(RGB_img)\n",
    "    return resized\n",
    "\n",
    "X_web_test = np.empty([5, 32, 32, 3], dtype=np.uint8)\n",
    "y_web_test = np.empty([5], dtype=np.uint8)\n",
    "\n",
    "X_web_test[0] = Import_url(\"https://ichef.bbci.co.uk/news/624/media/images/67626000/jpg/_67626131_speed-limit.jpg\", 60, 170, 160, 270)# 8 \n",
    "y_web_test[0] = 8 \n",
    "X_web_test[1] = Import_url(\"http://c8.alamy.com/comp/CRDR2P/traffic-signs-achtung-unfallschwerpunkt-german-for-warning-accident-CRDR2P.jpg\", 200, 850, 130, 780) # crop_img = img[0:500, 80:580] # 14\n",
    "y_web_test[1] = 18 \n",
    "X_web_test[2] = Import_url(\"http://bicyclegermany.com/Images/Laws/100_1607.jpg\", 0, 750, 180, 930) # crop_img = img[0:750, 180:930] # 11\n",
    "y_web_test[2] = 11 \n",
    "X_web_test[3] = Import_url(\"http://bicyclegermany.com/Images/Laws/Do-Not-Enter.jpg\", 30, 440, 120, 530) #crop_img = img[30:440, 120:530] #17\n",
    "y_web_test[3] = 17\n",
    "X_web_test[4] = Import_url(\"http://bicyclegermany.com/Images/Laws/Arterial.jpg\", 0, 490, 80, 570) # crop_img = img[0:490, 80:570]  # 12\n",
    "y_web_test[4] = 12 \n",
    "\n",
    "print(y_web_test)\n",
    "for i in range(len(X_web_test)):\n",
    "    plt.figure()\n",
    "    plt.imshow(X_web_test[i])\n",
    "mpimg.imsave('examples/120.jpg', X_web_test[0])\n",
    "    \n",
    "X_web_test = grayscale(X_web_test)\n",
    "X_web_test = normalization(X_web_test)\n",
    "#print(X_web_test.type)\n",
    "\n"
   ]
  },
  {
   "cell_type": "markdown",
   "metadata": {},
   "source": [
    "### Predict the Sign Type for Each Image"
   ]
  },
  {
   "cell_type": "code",
   "execution_count": 13,
   "metadata": {},
   "outputs": [
    {
     "name": "stdout",
     "output_type": "stream",
     "text": [
      "INFO:tensorflow:Restoring parameters from .\\lenet\n",
      "[ 8 18 11 17 12]\n"
     ]
    }
   ],
   "source": [
    "### Run the predictions here and use the model to output the prediction for each image.\n",
    "### Make sure to pre-process the images with the same pre-processing pipeline used earlier.\n",
    "### Feel free to use as many code cells as needed.\n",
    " \n",
    "with tf.Session() as sess:\n",
    "    saver.restore(sess, tf.train.latest_checkpoint('.'))  \n",
    "    predicted_logits = sess.run(tf.argmax(logits, 1), feed_dict={x: X_web_test})\n",
    "   \n",
    "    print(predicted_logits)\n"
   ]
  },
  {
   "cell_type": "markdown",
   "metadata": {},
   "source": [
    "### Analyze Performance"
   ]
  },
  {
   "cell_type": "code",
   "execution_count": 14,
   "metadata": {},
   "outputs": [
    {
     "name": "stdout",
     "output_type": "stream",
     "text": [
      "INFO:tensorflow:Restoring parameters from .\\lenet\n",
      "1.0\n"
     ]
    }
   ],
   "source": [
    "### Calculate the accuracy for these 5 new images. \n",
    "### For example, if the model predicted 1 out of 5 signs correctly, it's 20% accurate on these new images.\n",
    "\n",
    "with tf.Session() as sess:\n",
    "    saver.restore(sess, tf.train.latest_checkpoint('.'))\n",
    "    test_accuracy = evaluate(X_web_test, y_web_test)\n",
    "    \n",
    "    print(test_accuracy)\n",
    "    "
   ]
  },
  {
   "cell_type": "markdown",
   "metadata": {},
   "source": [
    "### Output Top 5 Softmax Probabilities For Each Image Found on the Web"
   ]
  },
  {
   "cell_type": "markdown",
   "metadata": {},
   "source": [
    "For each of the new images, print out the model's softmax probabilities to show the **certainty** of the model's predictions (limit the output to the top 5 probabilities for each image). [`tf.nn.top_k`](https://www.tensorflow.org/versions/r0.12/api_docs/python/nn.html#top_k) could prove helpful here. \n",
    "\n",
    "The example below demonstrates how tf.nn.top_k can be used to find the top k predictions for each image.\n",
    "\n",
    "`tf.nn.top_k` will return the values and indices (class ids) of the top k predictions. So if k=3, for each sign, it'll return the 3 largest probabilities (out of a possible 43) and the correspoding class ids.\n",
    "\n",
    "Take this numpy array as an example. The values in the array represent predictions. The array contains softmax probabilities for five candidate images with six possible classes. `tf.nn.top_k` is used to choose the three classes with the highest probability:\n",
    "\n",
    "```\n",
    "# (5, 6) array\n",
    "a = np.array([[ 0.24879643,  0.07032244,  0.12641572,  0.34763842,  0.07893497,\n",
    "         0.12789202],\n",
    "       [ 0.28086119,  0.27569815,  0.08594638,  0.0178669 ,  0.18063401,\n",
    "         0.15899337],\n",
    "       [ 0.26076848,  0.23664738,  0.08020603,  0.07001922,  0.1134371 ,\n",
    "         0.23892179],\n",
    "       [ 0.11943333,  0.29198961,  0.02605103,  0.26234032,  0.1351348 ,\n",
    "         0.16505091],\n",
    "       [ 0.09561176,  0.34396535,  0.0643941 ,  0.16240774,  0.24206137,\n",
    "         0.09155967]])\n",
    "```\n",
    "\n",
    "Running it through `sess.run(tf.nn.top_k(tf.constant(a), k=3))` produces:\n",
    "\n",
    "```\n",
    "TopKV2(values=array([[ 0.34763842,  0.24879643,  0.12789202],\n",
    "       [ 0.28086119,  0.27569815,  0.18063401],\n",
    "       [ 0.26076848,  0.23892179,  0.23664738],\n",
    "       [ 0.29198961,  0.26234032,  0.16505091],\n",
    "       [ 0.34396535,  0.24206137,  0.16240774]]), indices=array([[3, 0, 5],\n",
    "       [0, 1, 4],\n",
    "       [0, 5, 1],\n",
    "       [1, 3, 5],\n",
    "       [1, 4, 3]], dtype=int32))\n",
    "```\n",
    "\n",
    "Looking just at the first row we get `[ 0.34763842,  0.24879643,  0.12789202]`, you can confirm these are the 3 largest probabilities in `a`. You'll also notice `[3, 0, 5]` are the corresponding indices."
   ]
  },
  {
   "cell_type": "code",
   "execution_count": 17,
   "metadata": {},
   "outputs": [
    {
     "name": "stdout",
     "output_type": "stream",
     "text": [
      "INFO:tensorflow:Restoring parameters from .\\lenet\n",
      "TopKV2(values=array([[ 25.47591019,  24.7876606 ,  21.66723442,  16.75978088,\n",
      "          6.13434172],\n",
      "       [ 61.44905472,  25.85691643,  25.30916977,  22.12260056,\n",
      "         21.03218269],\n",
      "       [ 41.72261047,  29.43306923,  21.19727898,   7.50237465,\n",
      "          6.75263453],\n",
      "       [ 19.13243866,   6.64864635,   6.25752783,   4.49789238,\n",
      "          3.00579286],\n",
      "       [ 29.0318737 ,  10.87016773,   5.86332941,   5.72117615,\n",
      "          5.43120956]], dtype=float32), indices=array([[ 8,  5,  0, 14,  4],\n",
      "       [18, 37, 26, 33, 11],\n",
      "       [11, 30, 16, 21, 28],\n",
      "       [17, 14,  1, 33, 38],\n",
      "       [12, 40, 17,  9,  7]]))\n"
     ]
    }
   ],
   "source": [
    "### Print out the top five softmax probabilities for the predictions on the German traffic sign images found on the web. \n",
    "### Feel free to use as many code cells as needed.\n",
    "\n",
    "\n",
    "with tf.Session() as sess:\n",
    "    saver.restore(sess, tf.train.latest_checkpoint('.'))\n",
    "    predictions = sess.run(tf.nn.top_k(logits, k=5), feed_dict={x: X_web_test})\n",
    "    print(predictions)"
   ]
  },
  {
   "cell_type": "markdown",
   "metadata": {},
   "source": [
    "### Project Writeup\n",
    "\n",
    "Once you have completed the code implementation, document your results in a project writeup using this [template](https://github.com/udacity/CarND-Traffic-Sign-Classifier-Project/blob/master/writeup_template.md) as a guide. The writeup can be in a markdown or pdf file. "
   ]
  },
  {
   "cell_type": "markdown",
   "metadata": {},
   "source": [
    "> **Note**: Once you have completed all of the code implementations and successfully answered each question above, you may finalize your work by exporting the iPython Notebook as an HTML document. You can do this by using the menu above and navigating to  \\n\",\n",
    "    \"**File -> Download as -> HTML (.html)**. Include the finished document along with this notebook as your submission."
   ]
  },
  {
   "cell_type": "markdown",
   "metadata": {},
   "source": [
    "---\n",
    "\n",
    "## Step 4 (Optional): Visualize the Neural Network's State with Test Images\n",
    "\n",
    " This Section is not required to complete but acts as an additional excersise for understaning the output of a neural network's weights. While neural networks can be a great learning device they are often referred to as a black box. We can understand what the weights of a neural network look like better by plotting their feature maps. After successfully training your neural network you can see what it's feature maps look like by plotting the output of the network's weight layers in response to a test stimuli image. From these plotted feature maps, it's possible to see what characteristics of an image the network finds interesting. For a sign, maybe the inner network feature maps react with high activation to the sign's boundary outline or to the contrast in the sign's painted symbol.\n",
    "\n",
    " Provided for you below is the function code that allows you to get the visualization output of any tensorflow weight layer you want. The inputs to the function should be a stimuli image, one used during training or a new one you provided, and then the tensorflow variable name that represents the layer's state during the training process, for instance if you wanted to see what the [LeNet lab's](https://classroom.udacity.com/nanodegrees/nd013/parts/fbf77062-5703-404e-b60c-95b78b2f3f9e/modules/6df7ae49-c61c-4bb2-a23e-6527e69209ec/lessons/601ae704-1035-4287-8b11-e2c2716217ad/concepts/d4aca031-508f-4e0b-b493-e7b706120f81) feature maps looked like for it's second convolutional layer you could enter conv2 as the tf_activation variable.\n",
    "\n",
    "For an example of what feature map outputs look like, check out NVIDIA's results in their paper [End-to-End Deep Learning for Self-Driving Cars](https://devblogs.nvidia.com/parallelforall/deep-learning-self-driving-cars/) in the section Visualization of internal CNN State. NVIDIA was able to show that their network's inner weights had high activations to road boundary lines by comparing feature maps from an image with a clear path to one without. Try experimenting with a similar test to show that your trained network's weights are looking for interesting features, whether it's looking at differences in feature maps from images with or without a sign, or even what feature maps look like in a trained network vs a completely untrained one on the same sign image.\n",
    "\n",
    "<figure>\n",
    " <img src=\"visualize_cnn.png\" width=\"380\" alt=\"Combined Image\" />\n",
    " <figcaption>\n",
    " <p></p> \n",
    " <p style=\"text-align: center;\"> Your output should look something like this (above)</p> \n",
    " </figcaption>\n",
    "</figure>\n",
    " <p></p> \n"
   ]
  },
  {
   "cell_type": "code",
   "execution_count": 19,
   "metadata": {
    "scrolled": true
   },
   "outputs": [
    {
     "name": "stdout",
     "output_type": "stream",
     "text": [
      "INFO:tensorflow:Restoring parameters from .\\lenet\n"
     ]
    },
    {
     "data": {
      "image/png": "[encoded data removed]",
      "text/plain": [
       "<matplotlib.figure.Figure at 0x2281b766c50>"
      ]
     },
     "metadata": {},
     "output_type": "display_data"
    }
   ],
   "source": [
    "### Visualize your network's feature maps here.\n",
    "### Feel free to use as many code cells as needed.\n",
    "\n",
    "# image_input: the test image being fed into the network to produce the feature maps\n",
    "# tf_activation: should be a tf variable name used during your training procedure that represents the calculated state of a specific weight layer\n",
    "# activation_min/max: can be used to view the activation contrast in more detail, by default matplot sets min and max to the actual min and max values of the output\n",
    "# plt_num: used to plot out multiple different weight feature map sets on the same block, just extend the plt number for each new feature map entry\n",
    "\n",
    "def outputFeatureMap(image_input, tf_activation, activation_min=-1, activation_max=-1 ,plt_num=1):\n",
    "    # Here make sure to preprocess your image_input in a way your network expects\n",
    "    # with size, normalization, ect if needed\n",
    "    # image_input =\n",
    "    # Note: x should be the same name as your network's tensorflow data placeholder variable\n",
    "    # If you get an error tf_activation is not defined it may be having trouble accessing the variable from inside a function\n",
    "    activation = tf_activation.eval(session=sess,feed_dict={x : image_input})\n",
    "    featuremaps = activation.shape[3]\n",
    "    plt.figure(plt_num, figsize=(15,15))\n",
    "    for featuremap in range(featuremaps):\n",
    "        plt.subplot(6,8, featuremap+1) # sets the number of feature maps to show on each row and column\n",
    "        plt.title('FeatureMap ' + str(featuremap)) # displays the feature map number\n",
    "        if activation_min != -1 & activation_max != -1:\n",
    "            plt.imshow(activation[0,:,:, featuremap], interpolation=\"nearest\", vmin =activation_min, vmax=activation_max, cmap=\"gray\")\n",
    "        elif activation_max != -1:\n",
    "            plt.imshow(activation[0,:,:, featuremap], interpolation=\"nearest\", vmax=activation_max, cmap=\"gray\")\n",
    "        elif activation_min !=-1:\n",
    "            plt.imshow(activation[0,:,:, featuremap], interpolation=\"nearest\", vmin=activation_min, cmap=\"gray\")\n",
    "        else:\n",
    "            plt.imshow(activation[0,:,:, featuremap], interpolation=\"nearest\", cmap=\"gray\")\n",
    "\n",
    "\n",
    "with tf.Session() as sess:\n",
    "    saver.restore(sess, tf.train.latest_checkpoint('.'))\n",
    "    conv_L1 = tf.get_default_graph().get_tensor_by_name(\"Conv_L1:0\")\n",
    "    outputFeatureMap(X_web_test, conv_L1)"
   ]
  },
  {
   "cell_type": "code",
   "execution_count": null,
   "metadata": {
    "collapsed": true
   },
   "outputs": [],
   "source": []
  }
 ],
 "metadata": {
  "anaconda-cloud": {},
  "kernelspec": {
   "display_name": "Python 3",
   "language": "python",
   "name": "python3"
  },
  "language_info": {
   "codemirror_mode": {
    "name": "ipython",
    "version": 3
   },
   "file_extension": ".py",
   "mimetype": "text/x-python",
   "name": "python",
   "nbconvert_exporter": "python",
   "pygments_lexer": "ipython3",
   "version": "3.6.3"
  }
 },
 "nbformat": 4,
 "nbformat_minor": 1
}
